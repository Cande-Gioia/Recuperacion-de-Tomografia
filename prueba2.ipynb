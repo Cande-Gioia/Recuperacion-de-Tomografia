{
 "cells": [
  {
   "cell_type": "code",
   "execution_count": null,
   "id": "05b8f326-9466-4a20-ae79-185f5d7d9de3",
   "metadata": {},
   "outputs": [],
   "source": []
  },
  {
   "cell_type": "code",
   "execution_count": 4,
   "id": "150fc514-c721-4fe2-a636-b1bd23b9b1b8",
   "metadata": {},
   "outputs": [
    {
     "name": "stdout",
     "output_type": "stream",
     "text": [
      "[6.12323426e-17 1.00000000e+00]\n"
     ]
    }
   ],
   "source": [
    "import numpy as np\n",
    "pi = np.pi\n",
    "cos = np.cos\n",
    "sin = np.sin\n",
    "\n",
    "ang = 90\n",
    "rot = np.array([[cos(ang*pi/180), -sin(ang*pi/180)], \n",
    "                [sin(ang*pi/180), cos(ang*pi/180)]], dtype=np.float32)\n",
    "\n",
    "v = [1, 0]\n",
    "print(rot @ v)"
   ]
  },
  {
   "cell_type": "code",
   "execution_count": null,
   "id": "ed5a5e1a-bec5-4b69-8cb8-7107f34abc9c",
   "metadata": {},
   "outputs": [],
   "source": []
  }
 ],
 "metadata": {
  "kernelspec": {
   "display_name": "Python 3 (ipykernel)",
   "language": "python",
   "name": "python3"
  },
  "language_info": {
   "codemirror_mode": {
    "name": "ipython",
    "version": 3
   },
   "file_extension": ".py",
   "mimetype": "text/x-python",
   "name": "python",
   "nbconvert_exporter": "python",
   "pygments_lexer": "ipython3",
   "version": "3.11.5"
  }
 },
 "nbformat": 4,
 "nbformat_minor": 5
}
